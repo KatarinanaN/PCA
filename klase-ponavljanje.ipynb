{
 "cells": [
  {
   "cell_type": "markdown",
   "id": "f3deef63",
   "metadata": {},
   "source": [
    "Naime, kada napišemo program u Python-u mi zapravo radimo sa objektima koji su instanca neke klase. Celi brojevi su instanca klase 'int', floatovi su instanca klase 'float', funkcije su instance klase 'function' itd. Sada želimo da naučimo kako da pravimo nove tipove objekata, tj. nove klase. \n",
    "\n",
    "Pojam apstraktnog tipa podataka je prilično jednostavan. Apstraktni tip podataka je skup objekata i operacija nad tim objektima. Ova dva su povezana, tako da neko može da prosledi jedan objekat iz jednog dela programa u drugi, a da tom prilikom ne obezbeđuje pristup samo atributima podataka tog objekta, već i operacijama koje olakšavaju manipulaciju podacima. \n",
    "\n",
    "Specifikacije ovih operacija definišu interface između apstraktnog tipa podataka i ostatka programa. Interfejs definiše ponašanje operacija - sta one rade, ali ne i kako to rade. Stoga interfejs pruža abstraction barrier koja izoluje ostatak programa od strukture podataka, algoritama i koda uključenog u pružanje realizacije apstraktnosti tipa. \n",
    "\n",
    "Apstraktne tipove podataka smo naširoko već koristili (bez da smo ih pozivali). Pisali smo programe: upotrebom intidžera, lista, floutova, stringova i dictionaries a da uopšte nismo razmišljali o tome kako se ovi tipovi mogu implementirati. U Python-u se primena apstraktnih podatka može dobiti upotrebom klasa. Klase se nazivaju velikim početnim slovom i konvencijom kao što je CamelConvention."
   ]
  },
  {
   "cell_type": "markdown",
   "id": "a6e8044b",
   "metadata": {},
   "source": [
    "### <font color='MediumVioletRed' style=\"font-size:20px\"><b>Primer - class Rectangle</b></font>"
   ]
  },
  {
   "cell_type": "code",
   "execution_count": 1,
   "id": "493cd5e7",
   "metadata": {},
   "outputs": [],
   "source": [
    "class Rectangle():  \n",
    "    \"\"\"\n",
    "    Ova klasa stvara pravougaoni apstraktni tip. Za svaku instancu se može računati površina i obim.\n",
    "    Omogućava nam da promenimo i širinu i dužinu\n",
    "    \"\"\"\n",
    "    def __init__(self, širina, dužina):\n",
    "        \"\"\"\n",
    "        Definiše instancu klase Rectangle podešavanjem širine i dužine\n",
    "        \"\"\"\n",
    "        self.širina = širina\n",
    "        self.dužina = dužina\n",
    "    \n",
    "    def povrsina(self):\n",
    "        \"\"\"\n",
    "        Metod za računanje površine pravougaonika\n",
    "        \"\"\"\n",
    "        return self.širina*self.dužina\n",
    "    \n",
    "    def obim(self):\n",
    "        \"\"\"\n",
    "        Računa obim pravougaonika \n",
    "        \"\"\"\n",
    "        return 2*(self.širina+self.dužina)\n",
    "    \n",
    "    def promena_velicine(self, širina, dužina):\n",
    "        \"\"\"\n",
    "        Podešava novu širinu i dužinu pravougaonika\n",
    "        \"\"\"\n",
    "        self.širina = širina\n",
    "        self.dužina =dužina"
   ]
  },
  {
   "cell_type": "markdown",
   "id": "0cc641aa",
   "metadata": {},
   "source": [
    "Ovde klasa <font color='DarkTurquoise'><b>Rectangle</b></font> na vrhu definiše klasu. Omogućava neku apstraktnu predstavu onoga što znamo kao pravougaonik. U nekom smislu minimum informacija o pravougaoniku su njegova dužina i širina. Naravno, ako bismo da nacrtamo pravougaonik onda bi nam bile potrebne malo preciznije informacije (recimo: koordinate dva nesusedna temena).\n",
    "\n",
    "Iskaz <font color='FireBrick'><b> \\_\\_init__ </b></font> govori da svaka instanca (<font color='FireBrick'><b>self</b></font> označava instancu klase) treba da ima definisana dva parametra, širinu i dužinu. Kada podesimo **self.sirina = širina**, to znači da je prvi parametar, koji unosimo prilikom definisanja nekog objekta (instance), će biti **self.sirina**. Njega, kasnije takođe koristimo i u metodima ovog objekta. Ovaj inicijalni iskaz se zove još i **konstruktor klase (constructor of the class)**. Svaki budu kada hoćemo da kreiramo instancu klase, ovaj modul je uključen. \n",
    "\n",
    "<font color='DeepPink'><b>povrsina</b></font> je metod koji za svaku instancu (tj. za svaki pravougaonik koji pravimo) računa njegovu površinu. <font color='FireBrick'><b>self</b></font> precizira da nad instancom vršimo izračunavanje. Slično, metod <font color='DeepPink'><b>obim</b></font> računa obim (instancu od) pravougaonika. \n",
    "\n",
    "Nijedna od ovih funkcija ne zahteva dodatne argumente da bi bila upotrebljena - jednom kada su *širina* i *dužina* poznati, ova dva metoda se lako izvršavaju. Oba metoda ne traže više informacija od onih koje daje <font color='FireBrick'><b> \\_\\_init__ </b></font>, tj. oni samo zahtevaju da objekti budu kreirani. \n",
    "\n",
    "<font color='DeepPink'><b>promena_velicine</b></font> je takođe metod klase <font color='DarkTurquoise'><b>Rectangle</b></font>, ali je nešto drugačiji. Kako služi za promenu atributa pravougaonika (širina i površina), ovaj metod zahteva da korisnik unese input o novim vrednostima.  \n",
    "\n",
    "Primetite, međutim, da sva tri ova metoda mogu biti upotrebljena bez da smo prethodno znali neke detalje o tome kako se funkcija primenjuje. Kreirajmo dve instance klase <font color='DarkTurquoise'><b>Rectangle</b></font>, tj. dva objekta. "
   ]
  },
  {
   "cell_type": "code",
   "execution_count": 2,
   "id": "0184a050",
   "metadata": {},
   "outputs": [],
   "source": [
    "# Kreira pravougaonik širine 10, dužine 20 \n",
    "rect_1 = Rectangle(10,20) \n",
    "# Kreira pravougaonik širine 30, dužine 5\n",
    "rect_2 = Rectangle(30,5) "
   ]
  },
  {
   "cell_type": "markdown",
   "id": "a1de0c36",
   "metadata": {},
   "source": [
    "Svaka instanca klase je objekat. Informacije o atributima objekta dobijamo na sledeći način: "
   ]
  },
  {
   "cell_type": "code",
   "execution_count": 3,
   "id": "9379fa51",
   "metadata": {},
   "outputs": [
    {
     "name": "stdout",
     "output_type": "stream",
     "text": [
      "10 20\n",
      "30 5\n"
     ]
    }
   ],
   "source": [
    "print(rect_1.širina, rect_1.dužina)\n",
    "print(rect_2.širina, rect_2.dužina)"
   ]
  },
  {
   "cell_type": "markdown",
   "id": "d79727df",
   "metadata": {},
   "source": [
    "Na svaki objekat možemo primeniti metode definisane u ovoj klasi. Primetite da nam ne treba da preciziramo bilo koji dodatni parametar da bi se izvela ova kalkulacija (<font color='FireBrick'><b>self</b></font> je uvek implicitno, jer ono samo govori o tome da možemo da izvedemo računanje nad nekim objektom) Evo rezultata: "
   ]
  },
  {
   "cell_type": "code",
   "execution_count": 4,
   "id": "1bf1aa6c",
   "metadata": {},
   "outputs": [
    {
     "name": "stdout",
     "output_type": "stream",
     "text": [
      "200 150\n",
      "60 70\n"
     ]
    }
   ],
   "source": [
    "print(rect_1.povrsina(), rect_2.povrsina()) #ne trebaju parametri\n",
    "print(rect_1.obim(), rect_2.obim()) #ne trebaju parametri"
   ]
  },
  {
   "cell_type": "markdown",
   "id": "20521bd3",
   "metadata": {},
   "source": [
    "Da smo hteli da promenimo veličinu pravougaonika, morali bismo da damo nove atribute. To se postiže upotrebom metoda <font color='DeepPink'><b>promena_velicine</b></font>. Logično, ako izračunamo površinu i obim ponovo nakon promene atributa pravougaonika, dobićemo različite rezultate nego pre. "
   ]
  },
  {
   "cell_type": "code",
   "execution_count": 5,
   "id": "ebd9a994",
   "metadata": {},
   "outputs": [
    {
     "name": "stdout",
     "output_type": "stream",
     "text": [
      "27 32\n",
      "864 118\n"
     ]
    }
   ],
   "source": [
    "rect_1.promena_velicine(27,32) # Ovo je novi objekt iako je alias isti \n",
    "print(rect_1.širina, rect_1.dužina)\n",
    "print(rect_1.povrsina(), rect_1.obim())"
   ]
  },
  {
   "cell_type": "markdown",
   "id": "a7997572",
   "metadata": {},
   "source": [
    "Da bismo saznali više o klasi <font color='DarkTurquoise'><b>Rectangle</b></font> možemo koristiti funkciju <font color='DodgerBlue'><b>help</b></font>:"
   ]
  },
  {
   "cell_type": "code",
   "execution_count": 6,
   "id": "c2174387",
   "metadata": {},
   "outputs": [
    {
     "name": "stdout",
     "output_type": "stream",
     "text": [
      "Help on class Rectangle in module __main__:\n",
      "\n",
      "class Rectangle(builtins.object)\n",
      " |  Rectangle(širina, dužina)\n",
      " |  \n",
      " |  Ova klasa stvara pravougaoni apstraktni tip. Za svaku instancu se može računati površina i obim.\n",
      " |  Omogućava nam da promenimo i širinu i dužinu\n",
      " |  \n",
      " |  Methods defined here:\n",
      " |  \n",
      " |  __init__(self, širina, dužina)\n",
      " |      Definiše instancu klase Rectangle podešavanjem širine i dužine\n",
      " |  \n",
      " |  obim(self)\n",
      " |      Računa obim pravougaonika\n",
      " |  \n",
      " |  povrsina(self)\n",
      " |      Metod za računanje površine pravougaonika\n",
      " |  \n",
      " |  promena_velicine(self, širina, dužina)\n",
      " |      Podešava novu širinu i dužinu pravougaonika\n",
      " |  \n",
      " |  ----------------------------------------------------------------------\n",
      " |  Data descriptors defined here:\n",
      " |  \n",
      " |  __dict__\n",
      " |      dictionary for instance variables (if defined)\n",
      " |  \n",
      " |  __weakref__\n",
      " |      list of weak references to the object (if defined)\n",
      "\n"
     ]
    }
   ],
   "source": [
    "help(Rectangle)"
   ]
  },
  {
   "cell_type": "markdown",
   "id": "e8efab52",
   "metadata": {},
   "source": [
    "Zapravo, klasa <font color='DarkTurquoise'><b>Rectangle</b></font> (ili bilo koja je korisnička (user-defined) klasa) je podklasa klase <font color='mediumseagreen'><b>Object</b></font> koja najvažnija klasa u Python-u.  Ali ono što je mnogo važno je da čak i neke ugrađene (built-in) metode možemo da predefinišemo kako bismo zadovoljili svoje potrebe. \n",
    "\n",
    "Recimo da uzmem print objekta *rect_1*. Poziva built-in metod <font color='FireBrick'><b> \\_\\_str__ </b></font>. Ovo je ishod:"
   ]
  },
  {
   "cell_type": "code",
   "execution_count": 7,
   "id": "14392cd1",
   "metadata": {},
   "outputs": [
    {
     "name": "stdout",
     "output_type": "stream",
     "text": [
      "<__main__.Rectangle object at 0x0000016DFC3AB760>\n"
     ]
    }
   ],
   "source": [
    "print(rect_1)"
   ]
  },
  {
   "cell_type": "markdown",
   "id": "5acf6b7b",
   "metadata": {},
   "source": [
    "Pretpostavimo sada da hoću da predefinišem koju vrstu informacije želim da dobijem kada uradim print instance <font color='DarkTurquoise'><b>Rectangle</b></font>. Za to treba da predefinišem metod koji klasa <font color='DarkTurquoise'><b>Rectangle</b></font>, kontroliše, tj. <font color='FireBrick'><b> \\_\\_str__ </b></font>. Na primer, mogu da napravim autput koji mi daje malo više informacija o objektu. "
   ]
  },
  {
   "cell_type": "code",
   "execution_count": 8,
   "id": "9fec73dd",
   "metadata": {},
   "outputs": [],
   "source": [
    "class Rectangle():  \n",
    "    \"\"\"\n",
    "    Ova klasa stvara pravougaoni apstraktni tip. Za svaku instancu se može računati površina i obim.\n",
    "    Omogućava nam da promenimo i širinu i dužinu\n",
    "    \"\"\"\n",
    "    def __init__(self, širina, dužina):\n",
    "        \"\"\"\n",
    "        Definiše instancu klase Rectangle podešavanjem širine i dužine\n",
    "        \"\"\"\n",
    "        self.sirina = širina\n",
    "        self.duzina = dužina\n",
    "    \n",
    "    def povrsina(self):\n",
    "        \"\"\"\n",
    "        Računa površinu pravougaonika\n",
    "        \"\"\"\n",
    "        return self.sirina*self.dužina\n",
    "    \n",
    "    def obim(self):\n",
    "        \"\"\"\n",
    "        Računa obim pravougaonika\n",
    "        \"\"\"\n",
    "        return 2*(self.širina+self.dužina)\n",
    "    \n",
    "    def promena_velicine(self, širina, dužina):\n",
    "        \"\"\"\n",
    "        Podešava novu širinu i dužinu pravougaonika\n",
    "        \"\"\"\n",
    "        self.sirina = širina\n",
    "        self.duzina =dužina\n",
    "    \n",
    "    def __str__(self):\n",
    "        \"\"\"\n",
    "        Daje string reprezentaciju self-a\n",
    "        \"\"\"\n",
    "        return \"Pravougaonik širine \" + str(self.sirina) + \" i dužine \" + str(self.duzina)"
   ]
  },
  {
   "cell_type": "markdown",
   "id": "3c485dd4",
   "metadata": {},
   "source": [
    "Pogledajmo ove promene na delu: "
   ]
  },
  {
   "cell_type": "code",
   "execution_count": 9,
   "id": "90071fdb",
   "metadata": {},
   "outputs": [
    {
     "data": {
      "text/plain": [
       "'Pravougaonik širine 10 i dužine 20'"
      ]
     },
     "execution_count": 9,
     "metadata": {},
     "output_type": "execute_result"
    }
   ],
   "source": [
    "rect_1 = Rectangle(10,20)\n",
    "rect_1.__str__() # Print informacije u vidu stringa"
   ]
  },
  {
   "cell_type": "markdown",
   "id": "8a8b828c",
   "metadata": {},
   "source": [
    "Još bolje, umesto toga možemo koristiti <font color='DodgerBlue'><b>print</b></font>  "
   ]
  },
  {
   "cell_type": "code",
   "execution_count": 10,
   "id": "8db92b3d",
   "metadata": {},
   "outputs": [
    {
     "name": "stdout",
     "output_type": "stream",
     "text": [
      "Pravougaonik širine 10 i dužine 20\n"
     ]
    }
   ],
   "source": [
    "print(rect_1)"
   ]
  },
  {
   "cell_type": "markdown",
   "id": "9559ae7b",
   "metadata": {},
   "source": [
    "Uzmimo sada jedan drugi, praktični primer klase. Naime, klasa zaposlenih u kompaniji (nazvaćemo je <font color='DarkTurquoise'><b>Zaposleni</b></font>). Svaki zaposleni je instanca ove klase. Pretpostavimo da su određeni imenom i prezimenom, platom i emailom. \n",
    "\n",
    "Radi jednostavnosti, email je napravljen na osnovu njihovog imena i prezimena na sledeći način: <a class=\"isDisabled\">ime.prezime@kompanija.com</a>. Iako ćemo imati četiri informacije o svakom zaposlenom, potrebno je uneti samo 3 (email se dobija preko imena i prezimena). "
   ]
  },
  {
   "cell_type": "code",
   "execution_count": 11,
   "id": "8e1330ca",
   "metadata": {},
   "outputs": [],
   "source": [
    "class Zaposleni: \n",
    "    \"\"\"\n",
    "    Klasa Zaposleni prikuplja informacije i zaposlenima \n",
    "    \"\"\"\n",
    "    \n",
    "    def __init__(self,ime,prezime,plata):\n",
    "        self.ime = ime\n",
    "        self.prezime = prezime\n",
    "        self.plata = plata\n",
    "        self.email = ime + '.' + prezime + '@kompanija.com'\n",
    "    \n",
    "    def punoime(self):\n",
    "        \"\"\"\n",
    "        Print imena i prezimena člana klase Zaposleni\n",
    "        \"\"\"\n",
    "        return '{} {}'.format(self.ime,self.prezime)\n",
    "    \n",
    "    def __str__(self):\n",
    "        \"\"\"\n",
    "        Info string o objektu koji sadrži glavne informacije \n",
    "        \"\"\"\n",
    "        return '{} {} ima platu od {} i email {}'.format(self.ime,self.prezime, self.plata, self.email)"
   ]
  },
  {
   "cell_type": "markdown",
   "id": "91b2678c",
   "metadata": {},
   "source": [
    "Napravimo dve instance ove klase, iliti da popunimo podatke o dvoje zaposlenih:"
   ]
  },
  {
   "cell_type": "code",
   "execution_count": 12,
   "id": "77f7576a",
   "metadata": {},
   "outputs": [],
   "source": [
    "# Pravi 2 instance\n",
    "zap_1 = Zaposleni('Lana','Matić', 50000)\n",
    "zap_2 = Zaposleni('Milan','Đokić', 120000)"
   ]
  },
  {
   "cell_type": "markdown",
   "id": "d8b7ce16",
   "metadata": {},
   "source": [
    "Sada izdvojimo (ekstrakujmo) ime i prezime zaposlenog *zap_1*:"
   ]
  },
  {
   "cell_type": "code",
   "execution_count": 13,
   "id": "cb055aa4",
   "metadata": {},
   "outputs": [
    {
     "data": {
      "text/plain": [
       "'Lana Matić'"
      ]
     },
     "execution_count": 13,
     "metadata": {},
     "output_type": "execute_result"
    }
   ],
   "source": [
    "zap_1.punoime()"
   ]
  },
  {
   "cell_type": "markdown",
   "id": "74d5fc75",
   "metadata": {},
   "source": [
    "Pozivanjem imena varijable čija je instanca klase zapamćena (stored) dobijamo information-string o toj klasi (to je deifinsano sa <font color='FireBrick'><b> \\_\\_str__ </b></font>). Hajde da uradimo print tog stringa za zaposlenog *zap_2*:"
   ]
  },
  {
   "cell_type": "code",
   "execution_count": 14,
   "id": "575b4222",
   "metadata": {},
   "outputs": [
    {
     "name": "stdout",
     "output_type": "stream",
     "text": [
      "Milan Đokić ima platu od 120000 i email Milan.Đokić@kompanija.com\n"
     ]
    }
   ],
   "source": [
    "print(zap_2)"
   ]
  },
  {
   "cell_type": "markdown",
   "id": "9060a411",
   "metadata": {},
   "source": [
    "Primetite da ovde imamo **instance variables** ili **object attributes** koji se odnose određene instance (zaposlene) kao što su: ime, plata itd. U suštini, one imaju različitu vrednost za svaku instancu. Ali, takođe mogu postojati i varijable koje su **class variables**. "
   ]
  },
  {
   "cell_type": "markdown",
   "id": "9643a256",
   "metadata": {},
   "source": [
    "One sadrže informacije koje su zajedničke za sve instance klase, tj. karakteristične su za samu tu klasu. Pretpostavimo da hoćemo da imamo zajdnički faktor povećanja plata za sve zaposlene. U tom slučaju možemo učiniti nešto poput:"
   ]
  },
  {
   "cell_type": "code",
   "execution_count": 15,
   "id": "99c47193",
   "metadata": {},
   "outputs": [],
   "source": [
    "class Zaposleni: \n",
    "    \"\"\"\n",
    "    Klasa Zaposleni prikuplja informacije i zaposlenima \n",
    "    \"\"\"\n",
    "    #Definiše class variable (zajedničku za klasu)\n",
    "    faktor_povišice = 1.04\n",
    "    \n",
    "    def __init__(self,ime,prezime,plata):\n",
    "        self.ime = ime\n",
    "        self.prezime = prezime\n",
    "        self.plata = plata\n",
    "        self.email = ime + '.' + prezime + '@kompanija.com'\n",
    "    \n",
    "    def punoime(self):\n",
    "        return '{} {}'.format(self.ime,self.prezime)\n",
    "    \n",
    "    def __str__(self):\n",
    "        return '{} {} ima platu od {} i email {}'.format(self.ime,self.prezime, self.plata, self.email)\n",
    "    \n",
    "    def daj_povisicu(self):\n",
    "        self.plata = int(self.plata*Zaposleni.faktor_povišice)\n",
    "        # Zaposleni.faktor_povišice pristupa varijabli preko klase"
   ]
  },
  {
   "cell_type": "markdown",
   "id": "42df152a",
   "metadata": {},
   "source": [
    "Vidimo da instance nemaju pristup <font color='DeepPink'><b>faktor_povišice</b></font> direktno, već preko informacije o klasi. Da bi se pronašlo nešto o informaciji klase ili o informaciji instance, potrebno je koristi atribut <font color='FireBrick'><b>\\_\\_dict\\_\\_</b></font>:"
   ]
  },
  {
   "cell_type": "code",
   "execution_count": 16,
   "id": "120dc2f8",
   "metadata": {},
   "outputs": [
    {
     "name": "stdout",
     "output_type": "stream",
     "text": [
      "{'ime': 'Lana', 'prezime': 'Matić', 'plata': 50000, 'email': 'Lana.Matić@kompanija.com'}\n",
      "\n",
      "{'__module__': '__main__', '__doc__': '\\n    Klasa Zaposleni prikuplja informacije i zaposlenima \\n    ', 'faktor_povišice': 1.04, '__init__': <function Zaposleni.__init__ at 0x0000016DFC3E2C10>, 'punoime': <function Zaposleni.punoime at 0x0000016DFC3E2CA0>, '__str__': <function Zaposleni.__str__ at 0x0000016DFC3E2D30>, 'daj_povisicu': <function Zaposleni.daj_povisicu at 0x0000016DFC3E2DC0>, '__dict__': <attribute '__dict__' of 'Zaposleni' objects>, '__weakref__': <attribute '__weakref__' of 'Zaposleni' objects>}\n"
     ]
    }
   ],
   "source": [
    "zap_1 = Zaposleni('Lana','Matić', 50000)\n",
    "zap_2 = Zaposleni('Đoka','Đokić', 120000)\n",
    "print(zap_1.__dict__) # Print za zaposlenog \n",
    "print()\n",
    "print(Zaposleni.__dict__)"
   ]
  },
  {
   "cell_type": "markdown",
   "id": "5ff2d39a",
   "metadata": {},
   "source": [
    "Ako promenimo ovako definisan <font color='DeepPink'><b>faktor_povišice</b></font>, **promenićemo ga za sve instance** (to bi u ovom primeru bilo dodatno povećanje preko onog prethodnog povećanja od $4$%). Promenimo faktor povišice za sve zaposlene na $7\\%$:"
   ]
  },
  {
   "cell_type": "code",
   "execution_count": 17,
   "id": "343f69c4",
   "metadata": {},
   "outputs": [],
   "source": [
    "Zaposleni.faktor_povišice = 1.07 #Menja class variable"
   ]
  },
  {
   "cell_type": "markdown",
   "id": "e773231b",
   "metadata": {},
   "source": [
    "Primenimo novi faktor povišice na plate oba zaposlena:"
   ]
  },
  {
   "cell_type": "code",
   "execution_count": 18,
   "id": "c2dc34ea",
   "metadata": {},
   "outputs": [],
   "source": [
    "zap_1.daj_povisicu()  #Uvećava platu\n",
    "zap_2.daj_povisicu()"
   ]
  },
  {
   "cell_type": "markdown",
   "id": "f11a1ad9",
   "metadata": {},
   "source": [
    "Konačno, pogledajmo nove plate ova dva zaposlena:"
   ]
  },
  {
   "cell_type": "code",
   "execution_count": 19,
   "id": "d736b258",
   "metadata": {},
   "outputs": [
    {
     "name": "stdout",
     "output_type": "stream",
     "text": [
      "53500\n",
      "128400\n"
     ]
    }
   ],
   "source": [
    "print(zap_1.plata) #Nova plata \n",
    "print(zap_2.plata)"
   ]
  },
  {
   "cell_type": "markdown",
   "id": "0c2539be",
   "metadata": {},
   "source": [
    "Obratite pažnju da ukoliko bismo hteli da menjamo <font color='DeepPink'><b>faktor_povišice</b></font> pojedinačno, onda bismo morali da koristimo sledeći kod: **self.plata = int(self.plata\\*self.faktor_povišice)** umesto: **self.plata = int(self.plata\\*Zaposleni.faktor_povišice)**."
   ]
  },
  {
   "cell_type": "markdown",
   "id": "90baf3e9",
   "metadata": {},
   "source": [
    "Još jedan primer **class variable** bi bio onaj koji prati ukupan broj zaposlenih u kompaniji. To primenjujemo na sledeći način. Ovu varijablu nazivamo <font color='FireBrick'><b> broj_zapos </b></font> i izjednačavamo je sa nulom. Dodajući red u modul <font color='FireBrick'><b> \\_\\_init__ </b></font> dobijamo da svaki put kada se napravi nova instanca klase <font color='DarkTurquoise'><b>Zaposleni</b></font>, onda se <font color='FireBrick'><b> broj_zapos</b></font> poveća za 1. "
   ]
  },
  {
   "cell_type": "code",
   "execution_count": 20,
   "id": "0f808820",
   "metadata": {},
   "outputs": [],
   "source": [
    "class Zaposleni: \n",
    "    \"\"\"\n",
    "    Klasa Zaposleni prikuplja informacije i zaposlenima \n",
    "    \"\"\"\n",
    "    #Definiše class variable (zajedničku za klasu)\n",
    "    broj_zapos = 0\n",
    "    faktor_povišice = 1.04\n",
    "    \n",
    "    def __init__(self,ime,prezime,plata):\n",
    "        self.ime = ime\n",
    "        self.prezime = prezime\n",
    "        self.plata = plata\n",
    "        self.email = ime + '.' + prezime + '@kompanija.com'\n",
    "        # Prebrojava svakog novog zaposlenog. \n",
    "        # Obratite pažnju pre na prirodu klase, nego instance\n",
    "        Zaposleni.broj_zapos += 1\n",
    "    \n",
    "    def punoime(self):\n",
    "        return '{} {}'.format(self.ime,self.prezime)\n",
    "    \n",
    "    def daj_povisicu(self):\n",
    "        self.plata = int(self.plata*Zaposleni.faktor_povišice)\n",
    "        # Zaposleni.faktor_povišice pristupa varijabli preko klase\n",
    "        \n",
    "    def __str__(self):\n",
    "        return '{} {} ima platu od {} i email {}'.format(self.ime,self.prezime, self.plata, self.email)"
   ]
  },
  {
   "cell_type": "markdown",
   "id": "0f7a86db",
   "metadata": {},
   "source": [
    "Proverimo da li je broj zaposlenih jednak 0 pre nego što smo zaposlili nekog i kreirali to:"
   ]
  },
  {
   "cell_type": "code",
   "execution_count": 21,
   "id": "63a91183",
   "metadata": {},
   "outputs": [
    {
     "name": "stdout",
     "output_type": "stream",
     "text": [
      "0\n"
     ]
    }
   ],
   "source": [
    "print(Zaposleni.broj_zapos)"
   ]
  },
  {
   "cell_type": "markdown",
   "id": "9e06a70c",
   "metadata": {},
   "source": [
    "Sada kreiramo dve instance i ponovo proveravamo broj zaposlenih:"
   ]
  },
  {
   "cell_type": "code",
   "execution_count": 22,
   "id": "f3457229",
   "metadata": {},
   "outputs": [
    {
     "name": "stdout",
     "output_type": "stream",
     "text": [
      "2\n"
     ]
    }
   ],
   "source": [
    "zap_1 = Zaposleni('Lana','Matić', 50000)\n",
    "zap_2 = Zaposleni('Đoka','Đokić', 120000)\n",
    "print(Zaposleni.broj_zapos)"
   ]
  },
  {
   "cell_type": "markdown",
   "id": "a5b61c4c",
   "metadata": {},
   "source": [
    "## <font color='orange' style=\"font-size:25px\"><b>Inheritance i pravljenje podklasi (subclasses)</b></font> "
   ]
  },
  {
   "cell_type": "markdown",
   "id": "ec7718ba",
   "metadata": {},
   "source": [
    "Često je slučaj da zaposleni i nisu baš isti i da bismo želeli da imamo podklase zaposlenih sa specifičnim informacijama o njima, dok sa druge strane koristimo opšte informacije koje su zajedničke za sve zaposlene. To se radi preko **inheritance** i pravljenja **subclasses**.\n",
    "\n",
    "Inheritance nam omogućava da nasledimo (inherit) atribute i metode iz parent klase. Ali, takođe možemo ih modifikovati ili dodavati im svašta. To smo već radili sa klasom <font color='DarkTurquoise'><b>Zaposleni</b></font> koja je ćerka klasa klase <font color='mediumseagreen'><b>builtins.object</b></font>.  \n",
    "\n",
    "Pretpostavimo da hoćemo da kreiramo različite tipove zaposlenih, developera i menadžera. Prosto možemo definisati <font color='DarkTurquoise'><b>Developer</b></font> i <font color='DarkTurquoise'><b>Manager</b></font> ćerke klase.\n",
    "\n",
    "\n",
    "### <font color='MediumVioletRed' style=\"font-size:20px\"><b>Podklasa Developer</b></font> "
   ]
  },
  {
   "cell_type": "markdown",
   "id": "e6eb7b5f",
   "metadata": {},
   "source": [
    "Definišimo prvo <font color='DarkTurquoise'><b>Developer</b></font> klasu kao podklasu klase <font color='DarkTurquoise'><b>Zaposleni</b></font>, na najjednostavniji mogući način:  "
   ]
  },
  {
   "cell_type": "code",
   "execution_count": 23,
   "id": "73600e82",
   "metadata": {},
   "outputs": [],
   "source": [
    "class Developer(Zaposleni):\n",
    "    pass"
   ]
  },
  {
   "cell_type": "markdown",
   "id": "7409c666",
   "metadata": {},
   "source": [
    "Samim nasleđivanjem iz klase <font color='DarkTurquoise'><b>Zaposleni</b></font> već dobijamo veliku funkcionalnost, primera radi klasa se može definisati na isti način kao i parent klasa (jer nismo precizirali ništa drugačije):"
   ]
  },
  {
   "cell_type": "code",
   "execution_count": 24,
   "id": "489b0ae9",
   "metadata": {},
   "outputs": [],
   "source": [
    "dev_1 = Developer('Lana','Matić', 50000)\n",
    "dev_2 = Developer('Milan','Đokić', 120000)"
   ]
  },
  {
   "cell_type": "markdown",
   "id": "f3dd4dd0",
   "metadata": {},
   "source": [
    "Ako pozovemo prethodno napravljene instance, autput će biti isti kao i parent autput (ovo je opet zbog činjenice da nismo precizirali ništa drugačije): "
   ]
  },
  {
   "cell_type": "code",
   "execution_count": 25,
   "id": "52754011",
   "metadata": {},
   "outputs": [
    {
     "name": "stdout",
     "output_type": "stream",
     "text": [
      "Lana Matić ima platu od 50000 i email Lana.Matić@kompanija.com\n",
      "Milan Đokić ima platu od 120000 i email Milan.Đokić@kompanija.com\n"
     ]
    }
   ],
   "source": [
    "print(dev_1)\n",
    "print(dev_2)"
   ]
  },
  {
   "cell_type": "markdown",
   "id": "c93c6265",
   "metadata": {},
   "source": [
    "Kada smo dali instancu našoj <font color='DarkTurquoise'><b>Developer</b></font> klasi, prvo je potražila inicijalni metod te klase, ali ga nije bilo. Zatim je pretraga izvršena na narednom višem nivou u klasi <font color='DarkTurquoise'><b>Zaposleni</b></font> i tamo je pronašla inicijalni metod i upotrebila ga. To možemo proveriti upotrebom <font color='DodgerBlue'><b>help</b></font> funkcije. Pogledajte Method resolution order:"
   ]
  },
  {
   "cell_type": "code",
   "execution_count": 26,
   "id": "d5610c26",
   "metadata": {},
   "outputs": [
    {
     "name": "stdout",
     "output_type": "stream",
     "text": [
      "Help on class Developer in module __main__:\n",
      "\n",
      "class Developer(Zaposleni)\n",
      " |  Developer(ime, prezime, plata)\n",
      " |  \n",
      " |  Method resolution order:\n",
      " |      Developer\n",
      " |      Zaposleni\n",
      " |      builtins.object\n",
      " |  \n",
      " |  Methods inherited from Zaposleni:\n",
      " |  \n",
      " |  __init__(self, ime, prezime, plata)\n",
      " |      Initialize self.  See help(type(self)) for accurate signature.\n",
      " |  \n",
      " |  __str__(self)\n",
      " |      Return str(self).\n",
      " |  \n",
      " |  daj_povisicu(self)\n",
      " |  \n",
      " |  punoime(self)\n",
      " |  \n",
      " |  ----------------------------------------------------------------------\n",
      " |  Data descriptors inherited from Zaposleni:\n",
      " |  \n",
      " |  __dict__\n",
      " |      dictionary for instance variables (if defined)\n",
      " |  \n",
      " |  __weakref__\n",
      " |      list of weak references to the object (if defined)\n",
      " |  \n",
      " |  ----------------------------------------------------------------------\n",
      " |  Data and other attributes inherited from Zaposleni:\n",
      " |  \n",
      " |  broj_zapos = 4\n",
      " |  \n",
      " |  faktor_povišice = 1.04\n",
      "\n"
     ]
    }
   ],
   "source": [
    "help(Developer)"
   ]
  },
  {
   "cell_type": "markdown",
   "id": "1b49d198",
   "metadata": {},
   "source": [
    "Takođe, isti metodi mogu biti primenjeni:"
   ]
  },
  {
   "cell_type": "code",
   "execution_count": 27,
   "id": "f7507b30",
   "metadata": {},
   "outputs": [
    {
     "name": "stdout",
     "output_type": "stream",
     "text": [
      "50000\n",
      "52000\n"
     ]
    }
   ],
   "source": [
    "print(dev_1.plata)\n",
    "dev_1.daj_povisicu()\n",
    "print(dev_1.plata)"
   ]
  },
  {
   "cell_type": "markdown",
   "id": "e670b466",
   "metadata": {},
   "source": [
    "Ponekad bismo da iniciramo našu podklasu sa više informacija nego što sama parent klasa. Na primer, uzmimo da hoćemo da znamo koji je glavni programski jezik koji svaki developer zna (logičan zahtev za <font color='DarkTurquoise'><b>Developer</b></font> klasu). "
   ]
  },
  {
   "cell_type": "markdown",
   "id": "26d280f8",
   "metadata": {},
   "source": [
    "Ovo se lako rešava pisanjem <font color='FireBrick'><b>\\_\\_init\\_\\_</b></font> modula za <font color='DarkTurquoise'><b>Developer</b></font> klasu koji u obzir uzima ove informacije. Jednostavno samo dodajemo još jedan argument tu. Takođe predefinišemo print string o <font color='DarkTurquoise'><b>Developer</b></font> instancama, da bismo uključili i ovu informaciju. "
   ]
  },
  {
   "cell_type": "code",
   "execution_count": 33,
   "id": "c76be005",
   "metadata": {},
   "outputs": [],
   "source": [
    "class Developer(Zaposleni):\n",
    "    faktor_povišice = 1.1\n",
    "    \n",
    "    def __init__(self,ime,prezime,plata, prog_jezik):\n",
    "        #od parent inicijalnog metoda dobija ime, prezime i platu\n",
    "        super().__init__(ime,prezime,plata)\n",
    "        #dodaje još jednu definiciju tipičnu za Developere\n",
    "        self.prog_jezik = prog_jezik\n",
    "    \n",
    "    def __str__(self):\n",
    "        return '{} {} ima platu od {} i email {}. On/Ona programira u {}.'.format(self.ime,self.prezime,self.plata,self.email,\n",
    "                                                                                self.prog_jezik)"
   ]
  },
  {
   "cell_type": "markdown",
   "id": "1b04c1ed",
   "metadata": {},
   "source": [
    "Dalje, predifinišimo prethodne instance odklase <font color='DarkTurquoise'><b>Developer</b></font> i prikažimo information-string za jednu od njih: "
   ]
  },
  {
   "cell_type": "code",
   "execution_count": 34,
   "id": "4c21af72",
   "metadata": {},
   "outputs": [
    {
     "name": "stdout",
     "output_type": "stream",
     "text": [
      "Lana Matić ima platu od 50000 i email Lana.Matić@kompanija.com. On/Ona programira u Java.\n"
     ]
    }
   ],
   "source": [
    "dev_1 = Developer('Lana','Matić', 50000,'Java')\n",
    "dev_2 = Developer('Milan','Đokić', 120000, 'Python')\n",
    "print(dev_1)"
   ]
  },
  {
   "cell_type": "markdown",
   "id": "9441e895",
   "metadata": {},
   "source": [
    "Primetite da smo prilagodili šta treba da bude informacija o instanci klase <font color='DarkTurquoise'><b>Developer</b></font>. Sada pokazuje i informaciju o poznavanju programskog jezika."
   ]
  },
  {
   "cell_type": "markdown",
   "id": "222402a6",
   "metadata": {},
   "source": [
    "### <font color='MediumVioletRed' style=\"font-size:20px\"><b>Podklasa Manager</b></font> "
   ]
  },
  {
   "cell_type": "markdown",
   "id": "57988b90",
   "metadata": {},
   "source": [
    "Napravimo sada podklasu <font color='DarkTurquoise'><b>Manager</b></font>. Ona takođe nasleđuje (inherits) iz <font color='DarkTurquoise'><b>Zaposleni</b></font>, ali ima različita svojstva i od opšte klase <font color='DarkTurquoise'><b>Zaposleni</b></font> ili od klase <font color='DarkTurquoise'><b>Developer</b></font>. "
   ]
  },
  {
   "cell_type": "markdown",
   "id": "c2c5713b",
   "metadata": {},
   "source": [
    "Za svakog menadžera uzimamo informaciju o tome kom zaposlenom je on/ona šef. To zahteva dodavanje inputa zaposlenima u klasi <font color='DarkTurquoise'><b>Zaposleni</b></font>. To je lista određena ključnom rečju <font color='Green'><b>None</b></font>.\n",
    "\n",
    "<font color='DarkTurquoise'><b>Manager</b></font> može dodati ili ukloniti zaposlene koje nadziru. U tu svrhu, prave se dva dodatna metoda. Konačno, možemo uraditi print zaposlenih koji su pod njenim/njegovom nadležnosti. To zahteva pravljenje još jednog metoda."
   ]
  },
  {
   "cell_type": "code",
   "execution_count": 35,
   "id": "4db2b3ea",
   "metadata": {},
   "outputs": [],
   "source": [
    "class Manager(Zaposleni):\n",
    "    def __init__(self,ime,prezime,plata, zaposleni = None):\n",
    "        #Menadžer nadzire listu zaposlenih\n",
    "        super().__init__(ime,prezime,plata)\n",
    "        #Lista zaposlenih koje on/ona nadzire\n",
    "        if zaposleni is None:\n",
    "            self.zaposleni = []\n",
    "        else:\n",
    "            self.zaposleni = zaposleni\n",
    "    \n",
    "    # Metod koji dodaje zaposlenog na listu\n",
    "    def dodaj_zap(self,zap):\n",
    "        if zap not in self.zaposleni:\n",
    "            self.zaposleni.append(zap)\n",
    "        \n",
    "    # Metod za uklanjanje zaposlenih sa liste \n",
    "    def ukloni_zap(self,zap):\n",
    "        if zap in self.zaposleni:\n",
    "            self.zaposleni.remove(zap)\n",
    "    \n",
    "    # Print liste zaposlenih koje menadžer nadzire \n",
    "    def print_zap(self):\n",
    "        for zap in self.zaposleni:\n",
    "            print('-->',zap.punoime())"
   ]
  },
  {
   "cell_type": "markdown",
   "id": "f60c50cf",
   "metadata": {},
   "source": [
    "Definišimo jednu instancu ove podklase i prikažimo njen information-string:"
   ]
  },
  {
   "cell_type": "code",
   "execution_count": 36,
   "id": "3f076156",
   "metadata": {},
   "outputs": [
    {
     "name": "stdout",
     "output_type": "stream",
     "text": [
      "Milica Minić ima platu od 90000 i email Milica.Minić@kompanija.com\n"
     ]
    }
   ],
   "source": [
    "mgr_1 = Manager('Milica','Minić',90000,[dev_1]) #Primetite listu zaposlenih kao input\n",
    "print(mgr_1)  # Print opšte informacije o menadžeru"
   ]
  },
  {
   "cell_type": "markdown",
   "id": "c47098a4",
   "metadata": {},
   "source": [
    "Možemo videti sve zaposlene koje menadžer nadzire korišćenjem sledećeg:"
   ]
  },
  {
   "cell_type": "code",
   "execution_count": 37,
   "id": "9d259bed",
   "metadata": {},
   "outputs": [
    {
     "name": "stdout",
     "output_type": "stream",
     "text": [
      "--> Lana Matić\n"
     ]
    }
   ],
   "source": [
    "mgr_1.print_zap() # Print liste zaposlenih "
   ]
  },
  {
   "cell_type": "markdown",
   "id": "e42c25c9",
   "metadata": {},
   "source": [
    "Sada možemo dodati još neke zaposlene u njenu nadležnost:"
   ]
  },
  {
   "cell_type": "code",
   "execution_count": 38,
   "id": "efa0f2d0",
   "metadata": {},
   "outputs": [
    {
     "name": "stdout",
     "output_type": "stream",
     "text": [
      "--> Lana Matić\n",
      "--> Milan Đokić\n"
     ]
    }
   ],
   "source": [
    "mgr_1.dodaj_zap(dev_2)\n",
    "mgr_1.print_zap()"
   ]
  },
  {
   "cell_type": "markdown",
   "id": "5d8c99c0",
   "metadata": {},
   "source": [
    "Isto možemo ukloniti zaposlenog iz nadležnosti:"
   ]
  },
  {
   "cell_type": "code",
   "execution_count": 39,
   "id": "0b3bb434",
   "metadata": {},
   "outputs": [
    {
     "name": "stdout",
     "output_type": "stream",
     "text": [
      "--> Milan Đokić\n"
     ]
    }
   ],
   "source": [
    "mgr_1.ukloni_zap(dev_1)\n",
    "mgr_1.print_zap()"
   ]
  },
  {
   "cell_type": "markdown",
   "id": "979aaad8",
   "metadata": {},
   "source": [
    "### <font color='MediumVioletRed' style=\"font-size:20px\"><b>Funkcije isinstance() i issubclass()</b></font> "
   ]
  },
  {
   "cell_type": "markdown",
   "id": "ac4a047b",
   "metadata": {},
   "source": [
    "Možemo proveriti da li je neki objekat instanca klase ili je nešto podklasa određene klase.\n",
    "\n",
    "* primeri funkcije <font color='DodgerBlue'><b>isinstance</b></font>"
   ]
  },
  {
   "cell_type": "code",
   "execution_count": 40,
   "id": "f0bf7663",
   "metadata": {},
   "outputs": [
    {
     "name": "stdout",
     "output_type": "stream",
     "text": [
      "True\n",
      "True\n",
      "True\n",
      "False\n"
     ]
    }
   ],
   "source": [
    "print(isinstance(3,int)) # Broj 3 je instanca klase int\n",
    "print(isinstance(mgr_1,Manager))\n",
    "print(isinstance(mgr_1,Zaposleni))\n",
    "print(isinstance(mgr_1,Developer)) # Nije instanca developer-a"
   ]
  },
  {
   "cell_type": "markdown",
   "id": "e562b2a0",
   "metadata": {},
   "source": [
    "* primeri funkcije <font color='DodgerBlue'><b>issubclass</b></font>"
   ]
  },
  {
   "cell_type": "code",
   "execution_count": 41,
   "id": "89a988c2",
   "metadata": {},
   "outputs": [
    {
     "name": "stdout",
     "output_type": "stream",
     "text": [
      "False\n",
      "True\n"
     ]
    }
   ],
   "source": [
    "print(issubclass(Developer,Manager))\n",
    "print(issubclass(Developer,Zaposleni))"
   ]
  },
  {
   "cell_type": "markdown",
   "id": "31b7f59b",
   "metadata": {},
   "source": [
    "**ZADATAK**\n",
    "\n",
    "Vaš zadatak sada je da napravite klasu <font color='DarkTurquoise'><b>Circle</b></font>. Razmislite koji bi bio minimalni broj argumenata koji vam je potreban kako biste je definisali. Zatim je upotrebite da biste napravili različite metode (što više to bolje). "
   ]
  },
  {
   "cell_type": "code",
   "execution_count": null,
   "id": "1db8d363",
   "metadata": {},
   "outputs": [],
   "source": []
  }
 ],
 "metadata": {
  "kernelspec": {
   "display_name": "Python 3 (ipykernel)",
   "language": "python",
   "name": "python3"
  },
  "language_info": {
   "codemirror_mode": {
    "name": "ipython",
    "version": 3
   },
   "file_extension": ".py",
   "mimetype": "text/x-python",
   "name": "python",
   "nbconvert_exporter": "python",
   "pygments_lexer": "ipython3",
   "version": "3.9.13"
  }
 },
 "nbformat": 4,
 "nbformat_minor": 5
}
