{
 "cells": [
  {
   "cell_type": "markdown",
   "id": "987dd630",
   "metadata": {},
   "source": [
    "Pokrenite kod ispod kako biste učitali bazu koju ćete koristiti za ovaj zadatak:"
   ]
  },
  {
   "cell_type": "code",
   "execution_count": 4,
   "id": "a5d24890",
   "metadata": {},
   "outputs": [
    {
     "name": "stdout",
     "output_type": "stream",
     "text": [
      "(178, 13)\n",
      "(178,)\n"
     ]
    }
   ],
   "source": [
    "from sklearn.datasets import load_wine\n",
    "winedata = load_wine()\n",
    "X, y = winedata['data'], winedata['target']\n",
    "print(X.shape)\n",
    "print(y.shape)"
   ]
  },
  {
   "cell_type": "markdown",
   "id": "c2c97ab6",
   "metadata": {},
   "source": [
    "**a)** Prikažite bilo koje dve varijable (dakle bilo koje 2 od mogućih 13) na x i y osi, pri čemu će boje kružića ukazivati na različitu vrstu vina. \n",
    "\n",
    "*Trebalo bi da dobijete 2D dijagram raspršenosti sa 3 različite boje kuglica.*"
   ]
  },
  {
   "cell_type": "code",
   "execution_count": null,
   "id": "02457186",
   "metadata": {},
   "outputs": [],
   "source": []
  },
  {
   "cell_type": "code",
   "execution_count": null,
   "id": "a3dfdf4a",
   "metadata": {},
   "outputs": [],
   "source": []
  },
  {
   "cell_type": "markdown",
   "id": "0f6159e9",
   "metadata": {},
   "source": [
    "**b)** Pokušajte sada da dobijete 3D grafikon, takođe koristeći 3 objašnjavajuće promeljive po izboru."
   ]
  },
  {
   "cell_type": "code",
   "execution_count": null,
   "id": "d307ecfa",
   "metadata": {},
   "outputs": [],
   "source": []
  },
  {
   "cell_type": "code",
   "execution_count": null,
   "id": "ac1d1be5",
   "metadata": {},
   "outputs": [],
   "source": []
  },
  {
   "cell_type": "markdown",
   "id": "f39846e8",
   "metadata": {},
   "source": [
    "**c)** Izvršite skaliranje podataka"
   ]
  },
  {
   "cell_type": "code",
   "execution_count": null,
   "id": "ac3df5a7",
   "metadata": {},
   "outputs": [],
   "source": []
  },
  {
   "cell_type": "code",
   "execution_count": null,
   "id": "82393bd4",
   "metadata": {},
   "outputs": [],
   "source": []
  },
  {
   "cell_type": "markdown",
   "id": "d91fa604",
   "metadata": {},
   "source": [
    "**d)** Pokrenite PCA algoritam tako da dobijete 4 glavne komponente. Prikažite dataframe sa podacima o PC1, PC2, PC3, PC4 i target varijablom (koju smo na početku definisali kao y)"
   ]
  },
  {
   "cell_type": "code",
   "execution_count": null,
   "id": "2c055861",
   "metadata": {},
   "outputs": [],
   "source": []
  },
  {
   "cell_type": "code",
   "execution_count": null,
   "id": "a793cc3b",
   "metadata": {},
   "outputs": [],
   "source": []
  },
  {
   "cell_type": "markdown",
   "id": "d45106c0",
   "metadata": {},
   "source": [
    "**e)** Koliko iznosi % objašnjene varijanse za glavne komponente"
   ]
  },
  {
   "cell_type": "code",
   "execution_count": null,
   "id": "b1a84357",
   "metadata": {},
   "outputs": [],
   "source": []
  },
  {
   "cell_type": "markdown",
   "id": "f721b24c",
   "metadata": {},
   "source": [
    "**e)** Prikažete grafikon raspršenosti ako postoje samo dve glavne komponente"
   ]
  },
  {
   "cell_type": "code",
   "execution_count": null,
   "id": "93565ec7",
   "metadata": {},
   "outputs": [],
   "source": []
  },
  {
   "cell_type": "code",
   "execution_count": null,
   "id": "a4c41332",
   "metadata": {},
   "outputs": [],
   "source": []
  },
  {
   "cell_type": "markdown",
   "id": "1689ce49",
   "metadata": {},
   "source": [
    "**f)** Koje rešenje (broj glavnih komponenti) biste predložili kako bi informacije koje podaci pružaju ostala na što višem nivou"
   ]
  },
  {
   "cell_type": "code",
   "execution_count": null,
   "id": "c793dfd0",
   "metadata": {},
   "outputs": [],
   "source": []
  },
  {
   "cell_type": "code",
   "execution_count": null,
   "id": "c111e973",
   "metadata": {},
   "outputs": [],
   "source": []
  }
 ],
 "metadata": {
  "kernelspec": {
   "display_name": "Python 3 (ipykernel)",
   "language": "python",
   "name": "python3"
  },
  "language_info": {
   "codemirror_mode": {
    "name": "ipython",
    "version": 3
   },
   "file_extension": ".py",
   "mimetype": "text/x-python",
   "name": "python",
   "nbconvert_exporter": "python",
   "pygments_lexer": "ipython3",
   "version": "3.9.13"
  }
 },
 "nbformat": 4,
 "nbformat_minor": 5
}
